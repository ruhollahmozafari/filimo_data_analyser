{
 "cells": [
  {
   "cell_type": "markdown",
   "metadata": {},
   "source": []
  },
  {
   "cell_type": "code",
   "execution_count": 1,
   "metadata": {},
   "outputs": [],
   "source": [
    "import json \n",
    "import requests"
   ]
  },
  {
   "cell_type": "code",
   "execution_count": 7,
   "metadata": {},
   "outputs": [
    {
     "name": "stdout",
     "output_type": "stream",
     "text": [
      "{\"messages\":\"The API is unreachable, please contact the API provider\", \"info\": \"Your Client (working) ---> Gateway (working) ---> API (not working)\"}\n"
     ]
    }
   ],
   "source": [
    "def trans():\n",
    "    rapid_api_key = 'c10a3b3468mshea11bdae26f5911p1d9d13jsn108dd8377a12'\n",
    "\n",
    "    payload = {'text':'سلام این فیلم خوبی بود'}\n",
    "    url = \"https://microsoft-translator-text.p.rapidapi.com/translate\"\n",
    "    querystring = {\"to\": \"en\", \"api-version\": \"3.0\",\n",
    "                \"profanityAction\": \"NoAction\", \"textType\": \"plain\"}\n",
    "    payload = json.dumps(payload)\n",
    "    headers = {\n",
    "        'content-type': \"application/json\",\n",
    "        'x-rapidapi-host': \"microsoft-translator-text.p.rapidapi.com\",\n",
    "        'x-rapidapi-key':rapid_api_key \n",
    "    }\n",
    "    response = requests.request(\n",
    "        \"POST\", url, data=payload, headers=headers, params=querystring, timeout = 4)\n",
    "    return response.text\n",
    "\n",
    "print(trans())\n"
   ]
  },
  {
   "cell_type": "code",
   "execution_count": null,
   "metadata": {},
   "outputs": [],
   "source": []
  }
 ],
 "metadata": {
  "interpreter": {
   "hash": "74c8baa9953407a8f54a79f9a94602f9325ad0655b931c9b9e999cdfb2708fc0"
  },
  "kernelspec": {
   "display_name": "Python 3.8.10 ('venv': venv)",
   "language": "python",
   "name": "python3"
  },
  "language_info": {
   "codemirror_mode": {
    "name": "ipython",
    "version": 3
   },
   "file_extension": ".py",
   "mimetype": "text/x-python",
   "name": "python",
   "nbconvert_exporter": "python",
   "pygments_lexer": "ipython3",
   "version": "3.8.10"
  },
  "orig_nbformat": 4
 },
 "nbformat": 4,
 "nbformat_minor": 2
}
