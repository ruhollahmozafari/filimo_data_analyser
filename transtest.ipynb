{
 "cells": [
  {
   "cell_type": "markdown",
   "metadata": {},
   "source": []
  },
  {
   "cell_type": "code",
   "execution_count": 8,
   "metadata": {},
   "outputs": [],
   "source": [
    "import json \n",
    "import requests"
   ]
  },
  {
   "cell_type": "code",
   "execution_count": 1,
   "metadata": {},
   "outputs": [
    {
     "name": "stdout",
     "output_type": "stream",
     "text": [
      "[{\"detectedLanguage\":{\"language\":\"en\",\"score\":1.0},\"translations\":[{\"text\":\"حال شما چطور است? من خوبم. امروز چیکار کردی?\",\"to\":\"fa\"}]}]\n"
     ]
    }
   ],
   "source": [
    "import requests\n",
    "\n",
    "url = \"https://microsoft-translator-text.p.rapidapi.com/translate\"\n",
    "\n",
    "querystring = {\"to\":\"fa\",\"api-version\":\"3.0\",\"profanityAction\":\"NoAction\",\"textType\":\"plain\"}\n",
    "payload = '[{\\\"Text\\\": \\\"How are you? I am fine. What did you do today?\\\"}]'\n",
    "headers = {\n",
    "    'content-type': \"application/json\",\n",
    "    'x-rapidapi-host': \"microsoft-translator-text.p.rapidapi.com\",\n",
    "    'x-rapidapi-key': \"16cfd5816fmsh6528f260d31df4ep14e514jsn0d846d6f14f5\"\n",
    "    }\n",
    "\n",
    "response = requests.request(\"POST\", url, data=payload, headers=headers, params=querystring)\n",
    "\n",
    "print(response.text)\n"
   ]
  },
  {
   "cell_type": "code",
   "execution_count": null,
   "metadata": {},
   "outputs": [],
   "source": []
  }
 ],
 "metadata": {
  "interpreter": {
   "hash": "74c8baa9953407a8f54a79f9a94602f9325ad0655b931c9b9e999cdfb2708fc0"
  },
  "kernelspec": {
   "display_name": "Python 3.8.10 ('venv': venv)",
   "language": "python",
   "name": "python3"
  },
  "language_info": {
   "codemirror_mode": {
    "name": "ipython",
    "version": 3
   },
   "file_extension": ".py",
   "mimetype": "text/x-python",
   "name": "python",
   "nbconvert_exporter": "python",
   "pygments_lexer": "ipython3",
   "version": "3.8.10"
  },
  "orig_nbformat": 4
 },
 "nbformat": 4,
 "nbformat_minor": 2
}
