{
 "cells": [
  {
   "cell_type": "code",
   "execution_count": 35,
   "metadata": {},
   "outputs": [],
   "source": [
    "# one api \n",
    "import json \n",
    "import requests\n",
    "\n",
    "\n",
    "token = '323029:621bbc1d8dfe02.87566886'\n",
    "action = 'google'\n",
    "lang = 'en'\n",
    "query = 'سلام من به تو یار قدیمی '\n",
    "elist = []\n",
    "\n",
    "def get_english(fcomment):\n",
    "    \n",
    "    query = fcomment\n",
    "    url = f'https://one-api.ir/translate/?token={token}&action={action}&lang={lang}&q={query}'\n",
    "    r = requests.get(url = url, timeout = 5 )\n",
    "    elist.append(json.dumps(r.text).get(\"result\"))\n",
    "    return 'Done'\n",
    "\n"
   ]
  }
 ],
 "metadata": {
  "interpreter": {
   "hash": "74c8baa9953407a8f54a79f9a94602f9325ad0655b931c9b9e999cdfb2708fc0"
  },
  "kernelspec": {
   "display_name": "Python 3.8.10 ('venv': venv)",
   "language": "python",
   "name": "python3"
  },
  "language_info": {
   "codemirror_mode": {
    "name": "ipython",
    "version": 3
   },
   "file_extension": ".py",
   "mimetype": "text/x-python",
   "name": "python",
   "nbconvert_exporter": "python",
   "pygments_lexer": "ipython3",
   "version": "3.8.10"
  },
  "orig_nbformat": 4
 },
 "nbformat": 4,
 "nbformat_minor": 2
}
