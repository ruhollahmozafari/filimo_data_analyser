{
 "cells": [
  {
   "cell_type": "code",
   "execution_count": 1,
   "metadata": {},
   "outputs": [],
   "source": [
    "import googletrans\n",
    "from googletrans import Translator\n",
    "\n",
    "translator = Translator()"
   ]
  },
  {
   "cell_type": "code",
   "execution_count": 16,
   "metadata": {},
   "outputs": [
    {
     "name": "stdout",
     "output_type": "stream",
     "text": [
      "1\n"
     ]
    }
   ],
   "source": [
    "f= open('movie one comment.txt', 'r')\n",
    "estring = f.read()\n",
    "ecos = f.read().split('@')\n",
    "print(len(ecos))\n"
   ]
  },
  {
   "cell_type": "code",
   "execution_count": 17,
   "metadata": {},
   "outputs": [],
   "source": [
    "r = translator.translate(estring, dest='en')"
   ]
  },
  {
   "cell_type": "code",
   "execution_count": null,
   "metadata": {},
   "outputs": [],
   "source": [
    "fstring = r.text.split('@')\n",
    "print(len(estring.split('@')))\n",
    "print(len(fstring))\n",
    "\n",
    "for indexer, f in enumerate(fstring):\n",
    "    print(f)\n",
    "    print(estring[indexer])\n",
    "    print('-----------------------------------------------------------------')"
   ]
  },
  {
   "cell_type": "code",
   "execution_count": 37,
   "metadata": {},
   "outputs": [
    {
     "name": "stdout",
     "output_type": "stream",
     "text": [
      "2958\n",
      "\n",
      "خیلی عالیییییی بود بهترین ‌و قشنگ ترین سریالی بود که توی عمرم دیدممممم💙💙بازبگران لی سونگ گی و کوان هوا وون رو خیلی دوست دارم و خیلی خیلی خوب بازی کردند♥♥♥♥\n",
      "{\n",
      "    \"status\": 200,\n",
      "    \"result\": \"It was great, it was the best ‌ and it was the most beautiful series I have ever seen in my life.\"\n",
      "}\n",
      "{'status': 200, 'result': 'It was great, it was the best \\u200c and it was the most beautiful series I have ever seen in my life.'}\n",
      "\n",
      "سریال بسیار عالی ای بود،متاسفانه از زاویه ای سریال رو ببینی دردناکه و نویسنده به واقع طبقِ اطلاعاتی از این آدمهای خاص داشته این قدر کارکترِ اصلیِ سریال رو دوس داشتنی به تصویر کشیده...به هر حال سریالی بود که برگِ برنده اش فیلمنامه و ذهنِ نویسنده بود و بسیارررر جذاب بود\n",
      "{\n",
      "    \"status\": 200,\n",
      "    \"result\": \"It was a great series, unfortunately, it is painful to look at the series from an angle, and the author actually had such a lovely portrayal of the main character of the series based on information from these special people ... Anyway, it was a series whose winner was the script and It was the writer's mind and it was very interesting\"\n",
      "}\n",
      "{'status': 200, 'result': \"It was a great series, unfortunately, it is painful to look at the series from an angle, and the author actually had such a lovely portrayal of the main character of the series based on information from these special people ... Anyway, it was a series whose winner was the script and It was the writer's mind and it was very interesting\"}\n",
      "\n",
      "این فیلم وااااااقعا شاهکاره\n",
      "مخصوصا تو قسمت نهم....\n",
      "اصلا زبونم قاصره نمیدونم چی بگم که بتونم واقعا به اون اندازه که خوبه ازش تعریف کنم....\n",
      "خیلی ذهنت رو به چالش میکشه و همه چیز هایی که پیش بینی میکنی اشتباه در میاد از بس که مغز نویسنده متفکر و.... بوده.\n",
      "{\n",
      "    \"status\": 200,\n",
      "    \"result\": \"This movie is really a masterpiece\\nEspecially in the ninth part ....\\nI do not know what to say that I can really describe it as well as I can ....\\nIt challenges your mind a lot and everything you predict is wrong enough that the author's brain was thinking and ....\"\n",
      "}\n",
      "{'status': 200, 'result': \"This movie is really a masterpiece\\nEspecially in the ninth part ....\\nI do not know what to say that I can really describe it as well as I can ....\\nIt challenges your mind a lot and everything you predict is wrong enough that the author's brain was thinking and ....\"}\n",
      "\n",
      "خیلی خوبه هرچقدر تعریف کنم بازم کمه\n",
      "{\n",
      "    \"status\": 200,\n",
      "    \"result\": \"Very good, no matter how much I define it\"\n",
      "}\n",
      "{'status': 200, 'result': 'Very good, no matter how much I define it'}\n",
      "\n",
      "یکی از فوق العاده ترین سریالهایی که دیدم مگه داریم به این زیبایی خیلی ناراحتم که تموم شد حالا چی ببینم به این اندازه عالی \n",
      "{\n",
      "    \"status\": 200,\n",
      "    \"result\": \"One of the most wonderful series I have ever seen. I'm so sad that it 's over.\"\n",
      "}\n",
      "{'status': 200, 'result': \"One of the most wonderful series I have ever seen. I'm so sad that it 's over.\"}\n",
      "\n",
      "من با این سریال کلی گریه کردم حتما ببینید عاشقش می شید\n",
      "\n",
      "{\n",
      "    \"status\": 200,\n",
      "    \"result\": \"I cried with this series, be sure to see you fall in love with it\"\n",
      "}\n",
      "{'status': 200, 'result': 'I cried with this series, be sure to see you fall in love with it'}\n",
      "\n",
      "بهترین و جذاب ترین\n",
      "{\n",
      "    \"status\": 200,\n",
      "    \"result\": \"The best and most attractive\"\n",
      "}\n",
      "{'status': 200, 'result': 'The best and most attractive'}\n",
      "\n",
      "عالی و محشر پر از معماهای جنایی\n",
      "به کسایی که با خون و صحنه های قتل نمیتونن کنار بیان پیشنهادش نمیکنم\n",
      "ولی کسایی که مثل خودم عاشق جنایی و پرونده های قتل ن حتمااااا ببینننش\n",
      "{\n",
      "    \"status\": 200,\n",
      "    \"result\": \"Awesome and full of criminal riddles\\nI do not recommend it to those who can not speak with blood and murder scenes\\nBut those who, like me, love crime and murder cases, must see it\"\n",
      "}\n",
      "{'status': 200, 'result': 'Awesome and full of criminal riddles\\nI do not recommend it to those who can not speak with blood and murder scenes\\nBut those who, like me, love crime and murder cases, must see it'}\n",
      "\n",
      "وای محشر بود\n",
      "{\n",
      "    \"status\": 200,\n",
      "    \"result\": \"Wow it was awesome\"\n",
      "}\n",
      "{'status': 200, 'result': 'Wow it was awesome'}\n",
      "\n",
      "واقعا عالی. دست مریضاد🤗🤗🤗🤗\n",
      "{\n",
      "    \"status\": 200,\n",
      "    \"result\": \"Really great. The patient's hand\"\n",
      "}\n",
      "{'status': 200, 'result': \"Really great. The patient's hand\"}\n",
      "\n",
      "واقعا سریال درجه یکی هست. یک سریال معمایی و اکشن و در عین حال بامعنا.\n",
      "{\n",
      "    \"status\": 200,\n",
      "    \"result\": \"It really is a first-rate series. An enigmatic and action series and at the same time meaningful.\"\n",
      "}\n",
      "{'status': 200, 'result': 'It really is a first-rate series. An enigmatic and action series and at the same time meaningful.'}\n",
      "\n",
      "خیلی عالیییییی بود بهترین ‌و قشنگ ترین سریالی بود که توی عمرم دیدممممم💙💙بازبگران لی سونگ گی و کوان هوا وون رو خیلی دوست دارم و خیلی خیلی خوب بازی کردند♥♥♥♥\n",
      "{\n",
      "    \"status\": 200,\n",
      "    \"result\": \"It was great, it was the best ‌ and it was the most beautiful series I have ever seen in my life.\"\n",
      "}\n",
      "{'status': 200, 'result': 'It was great, it was the best \\u200c and it was the most beautiful series I have ever seen in my life.'}\n",
      "\n",
      "\n",
      "{\n",
      "    \"status\": 404\n",
      "}\n",
      "{'status': 404}\n"
     ]
    },
    {
     "ename": "KeyError",
     "evalue": "'result'",
     "output_type": "error",
     "traceback": [
      "\u001b[0;31m---------------------------------------------------------------------------\u001b[0m",
      "\u001b[0;31mKeyError\u001b[0m                                  Traceback (most recent call last)",
      "\u001b[1;32m/home/ruhy/projects/university-final-project/test.ipynb Cell 5'\u001b[0m in \u001b[0;36m<module>\u001b[0;34m\u001b[0m\n\u001b[1;32m      <a href='vscode-notebook-cell:/home/ruhy/projects/university-final-project/test.ipynb#ch0000010?line=7'>8</a>\u001b[0m \u001b[39mprint\u001b[39m(rslt\u001b[39m.\u001b[39mtext)\n\u001b[1;32m      <a href='vscode-notebook-cell:/home/ruhy/projects/university-final-project/test.ipynb#ch0000010?line=8'>9</a>\u001b[0m \u001b[39mprint\u001b[39m(rslt\u001b[39m.\u001b[39mjson())\n\u001b[0;32m---> <a href='vscode-notebook-cell:/home/ruhy/projects/university-final-project/test.ipynb#ch0000010?line=9'>10</a>\u001b[0m rlist\u001b[39m.\u001b[39mappend(rslt\u001b[39m.\u001b[39;49mjson()[\u001b[39m'\u001b[39;49m\u001b[39mresult\u001b[39;49m\u001b[39m'\u001b[39;49m] )\n",
      "\u001b[0;31mKeyError\u001b[0m: 'result'"
     ]
    }
   ],
   "source": [
    "import requests\n",
    "print(len(estring))\n",
    "rlist = []\n",
    "for e in estring.split('@'):\n",
    "    print(e)\n",
    "    text = e\n",
    "    rslt = requests.get(f'https://one-api.ir/translate/?token=323029:6207f9f1b658a8.51282896&action=google&lang=en&q={text}')\n",
    "    print(rslt.text)\n",
    "    print(rslt.json())\n",
    "    rlist.append(rslt.json()['result'] )"
   ]
  },
  {
   "cell_type": "code",
   "execution_count": null,
   "metadata": {},
   "outputs": [],
   "source": []
  }
 ],
 "metadata": {
  "interpreter": {
   "hash": "74c8baa9953407a8f54a79f9a94602f9325ad0655b931c9b9e999cdfb2708fc0"
  },
  "kernelspec": {
   "display_name": "Python 3.8.10 ('venv': venv)",
   "language": "python",
   "name": "python3"
  },
  "language_info": {
   "codemirror_mode": {
    "name": "ipython",
    "version": 3
   },
   "file_extension": ".py",
   "mimetype": "text/x-python",
   "name": "python",
   "nbconvert_exporter": "python",
   "pygments_lexer": "ipython3",
   "version": "3.8.10"
  },
  "orig_nbformat": 4
 },
 "nbformat": 4,
 "nbformat_minor": 2
}
