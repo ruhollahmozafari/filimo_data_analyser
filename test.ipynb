{
 "cells": [
  {
   "cell_type": "code",
   "execution_count": 7,
   "metadata": {},
   "outputs": [],
   "source": [
    "import googletrans\n",
    "from googletrans import Translator\n",
    "translator = Translator()\n"
   ]
  },
  {
   "cell_type": "code",
   "execution_count": null,
   "metadata": {},
   "outputs": [],
   "source": [
    "f= open('test.txt', 'r')\n",
    "all_fstring = f.read()\n"
   ]
  },
  {
   "cell_type": "code",
   "execution_count": null,
   "metadata": {},
   "outputs": [],
   "source": [
    "d = {'one': 'this was the  best movie of all time', 'two':'how to start a project with a stupid person'\n",
    "}\n",
    "f_comments = {i:fcomment for i,fcomment in enumerate(all_fstring.split('****'))}\n",
    "r = translator.translate(, dest='en')\n",
    "print(r)\n"
   ]
  },
  {
   "cell_type": "code",
   "execution_count": null,
   "metadata": {},
   "outputs": [],
   "source": [
    "import json\n",
    "print(type(r))\n",
    "print(type(r.text))"
   ]
  },
  {
   "cell_type": "code",
   "execution_count": 61,
   "metadata": {},
   "outputs": [],
   "source": [
    "import json\n",
    "f = open('final e comments 2.txt', 'a')\n",
    "f.write(r.text)\n",
    "f.close()"
   ]
  },
  {
   "cell_type": "code",
   "execution_count": 21,
   "metadata": {},
   "outputs": [
    {
     "name": "stdout",
     "output_type": "stream",
     "text": [
      "41\n",
      "44\n"
     ]
    }
   ],
   "source": [
    "ecos = r.text.split('****')\n",
    "fcos = all_fstring.split('****')\n",
    "print(len(ecos))\n",
    "print(len(all_fstring.split('****')))"
   ]
  },
  {
   "cell_type": "code",
   "execution_count": 28,
   "metadata": {},
   "outputs": [],
   "source": [
    "import requests\n",
    "t = {\n",
    "  \"q\": [\"Hello world\", \"My name is Jeff\"],\n",
    "  \"target\": \"de\"\n",
    "}\n",
    "headers = {\"Content-Type\": 'application/json'}\n",
    "# url = 'POST https://translation.googleapis.com/language/translate/v2'\n",
    "url = 'https://api.publicapis.org/entries'\n",
    "r = requests.get(url = url)\n"
   ]
  },
  {
   "cell_type": "code",
   "execution_count": 37,
   "metadata": {},
   "outputs": [],
   "source": [
    "def translate_text(target, text):\n",
    "    \"\"\"Translates text into the target language.\n",
    "\n",
    "    Target must be an ISO 639-1 language code.\n",
    "    See https://g.co/cloud/translate/v2/translate-reference#supported_languages\n",
    "    \"\"\"\n",
    "    import six\n",
    "    from google.cloud import translate_v2 as translate\n",
    "\n",
    "    translate_client = translate.Client()\n",
    "\n",
    "    if isinstance(text, six.binary_type):\n",
    "        text = text.decode(\"utf-8\")\n",
    "\n",
    "    # Text can also be a sequence of strings, in which case this method\n",
    "    # will return a sequence of results for each text.\n",
    "    result = translate_client.translate(text, target_language=target)\n",
    "\n",
    "    print(u\"Text: {}\".format(result[\"input\"]))\n",
    "    print(u\"Translation: {}\".format(result[\"translatedText\"]))\n",
    "    print(u\"Detected source language: {}\".format(result[\"detectedSourceLanguage\"]))\n"
   ]
  },
  {
   "cell_type": "code",
   "execution_count": null,
   "metadata": {},
   "outputs": [],
   "source": [
    "translate_text('en', 'سلام من این فیلم رو خیلی خیلی دوست داشتم')\n"
   ]
  }
 ],
 "metadata": {
  "interpreter": {
   "hash": "74c8baa9953407a8f54a79f9a94602f9325ad0655b931c9b9e999cdfb2708fc0"
  },
  "kernelspec": {
   "display_name": "Python 3.8.10 ('venv': venv)",
   "language": "python",
   "name": "python3"
  },
  "language_info": {
   "codemirror_mode": {
    "name": "ipython",
    "version": 3
   },
   "file_extension": ".py",
   "mimetype": "text/x-python",
   "name": "python",
   "nbconvert_exporter": "python",
   "pygments_lexer": "ipython3",
   "version": "3.8.10"
  },
  "orig_nbformat": 4
 },
 "nbformat": 4,
 "nbformat_minor": 2
}
