{
 "cells": [
  {
   "cell_type": "code",
   "execution_count": null,
   "metadata": {},
   "outputs": [
    {
     "ename": "",
     "evalue": "",
     "output_type": "error",
     "traceback": [
      "\u001b[1;31mFailed to start the Kernel. \n",
      "Failed to start the Kernel 'venv (Python 3.8.10)'. \n",
      "View Jupyter <a href='command:jupyter.viewOutput'>log</a> for further details. Kernel has not been started"
     ]
    }
   ],
   "source": [
    "import requests\n",
    "import json\n",
    "\n",
    "\n",
    "def my_translator(payload:iter):\n",
    "    # payload = [{'text':comment} for comment in comments ]\n",
    "\n",
    "\n",
    "    url = \"https://microsoft-translator-text.p.rapidapi.com/translate\"\n",
    "    querystring = {\"to\":\"en\",\"api-version\":\"3.0\",\"profanityAction\":\"NoAction\",\"textType\":\"plain\"}\n",
    "    payload = json.dumps(payload)\n",
    "    headers = {\n",
    "        'content-type': \"application/json\",\n",
    "        'x-rapidapi-host': \"microsoft-translator-text.p.rapidapi.com\",\n",
    "        'x-rapidapi-key': \"c10a3b3468mshea11bdae26f5911p1d9d13jsn108dd8377a12\"\n",
    "        }\n",
    "    response = requests.request(\"POST\", url, data=payload, headers=headers, params=querystring)\n",
    "\n",
    "    return response\n",
    "\n",
    "\n",
    "\n",
    "\n",
    "payload = [{'text':'سلام فیلم خوبی بود'}, {'text':'سلام من به تو یار فدیمی'}]\n",
    "\n",
    "r = my_translator(payload=payload)\n",
    "\n"
   ]
  },
  {
   "cell_type": "code",
   "execution_count": null,
   "metadata": {},
   "outputs": [],
   "source": []
  },
  {
   "cell_type": "code",
   "execution_count": null,
   "metadata": {},
   "outputs": [],
   "source": []
  }
 ],
 "metadata": {
  "interpreter": {
   "hash": "74c8baa9953407a8f54a79f9a94602f9325ad0655b931c9b9e999cdfb2708fc0"
  },
  "kernelspec": {
   "display_name": "Python 3.8.10 ('venv': venv)",
   "language": "python",
   "name": "python3"
  },
  "language_info": {
   "codemirror_mode": {
    "name": "ipython",
    "version": 3
   },
   "file_extension": ".py",
   "mimetype": "text/x-python",
   "name": "python",
   "nbconvert_exporter": "python",
   "pygments_lexer": "ipython3",
   "version": "3.8.10"
  },
  "orig_nbformat": 4
 },
 "nbformat": 4,
 "nbformat_minor": 2
}
